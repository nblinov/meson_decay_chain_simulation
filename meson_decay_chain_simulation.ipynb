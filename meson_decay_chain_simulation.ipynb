{
 "cells": [
  {
   "cell_type": "markdown",
   "metadata": {},
   "source": [
    "An example of simulating $\\eta$ meson production in $pp$ collisisons, followed by their decay into photons and dark vectors"
   ]
  },
  {
   "cell_type": "code",
   "execution_count": 1,
   "metadata": {},
   "outputs": [],
   "source": [
    "# this is based on main01.py example in the PYTHIA distribution\n",
    "# PYTHIA must be compiled with the python interface enabled to make this notebook work\n",
    "\n",
    "import numpy as np\n",
    "import sys\n",
    "import mc\n",
    "import kinematics as kin\n",
    "\n",
    "# Import the Pythia module \n",
    "lib = '/home/nblinov/HEP/pythia8306/lib'\n",
    "sys.path.insert(0, lib)\n",
    "\n",
    "import pythia8\n",
    "\n",
    "def generate_meson_decay_chain(p_meson, m_vector, mf):\n",
    "    \"\"\"\n",
    "    Generate decay chain meson > gamma + V, V > f f\n",
    "    Args:\n",
    "        p_meson - four-momentum of the parent meson\n",
    "        m_vector - dark vector mass in the decay meson > gamma + V\n",
    "        mf - final state mass in the dark vector decay V > f f\n",
    "    Returns:\n",
    "        list of four vectors [p_meson, p_gamma, p_vector, p1, p2]\n",
    "    \"\"\"\n",
    "    m_meson = np.sqrt(kin.lor_prod(p_meson,p_meson))\n",
    "    p_gamma, p_vector  = mc.gen_two_body_decay_products(p_meson, m_meson, 0., m_vector)\n",
    "    p1, p2 = mc.gen_two_body_decay_products(p_vector, m_vector, mf, mf)\n",
    "    \n",
    "    return [p_meson, p_gamma, p_vector, p1, p2]\n"
   ]
  },
  {
   "cell_type": "markdown",
   "metadata": {},
   "source": [
    "Generate some mesons from LHC collisions, while disabling $\\eta$ decays, so that we can collect them and decay by hand"
   ]
  },
  {
   "cell_type": "code",
   "execution_count": 3,
   "metadata": {},
   "outputs": [
    {
     "name": "stdout",
     "output_type": "stream",
     "text": [
      "Total # of pi0s =  0\n",
      "Total # of etas =  125\n",
      "Total # of etas primes =  0\n",
      "pi0 per interaction =  0.0\n",
      "eta per interaction =  12.5\n",
      "eta prime per interactio =  0.0\n"
     ]
    }
   ],
   "source": [
    "pythia = pythia8.Pythia()\n",
    "pythia.readString(\"Beams:eCM = 14000.\")\n",
    "\n",
    "#pi0\n",
    "#pythia.readString(\"111: mayDecay = false\");\n",
    "#eta\n",
    "pythia.readString(\"221: mayDecay = false\");\n",
    "\n",
    "#pythia.readString(\"SoftQCD:all = on\");\n",
    "pythia.readString(\"HardQCD:all = on\");\n",
    "\n",
    "pythia.readString(\"PhaseSpace:pTHatMin = 20.\")\n",
    "nEvents = 10\n",
    "\n",
    "\n",
    "pythia.init()\n",
    "\n",
    "\n",
    "pi0_total = 0\n",
    "eta_total = 0\n",
    "eta_prime_total = 0\n",
    "\n",
    "pi0_four_vector_list = []\n",
    "eta_four_vector_list = []\n",
    "eta_prime_four_vector_list = []\n",
    "\n",
    "\n",
    "# Begin event loop. Generate event. Skip if error. List first one.\n",
    "for iEvent in range(0, nEvents):\n",
    "    if not pythia.next(): continue\n",
    "\n",
    "    for prt in pythia.event:\n",
    "        if prt.isFinal() and prt.id() == 111:\n",
    "            pi0_total += 1\n",
    "            pi0_four_vector_list.append(np.array([prt.e(), prt.px(), prt.py(), prt.pz()]))\n",
    "\n",
    "        if prt.isFinal() and prt.id() == 221:\n",
    "            eta_total += 1\n",
    "            eta_four_vector_list.append(np.array([prt.e(), prt.px(), prt.py(), prt.pz()]))\n",
    "         \n",
    "        if prt.isFinal() and prt.id() == 331:\n",
    "            eta_prime_total += 1\n",
    "            eta_prime_four_vector_list.append(np.array([prt.e(), prt.px(), prt.py(), prt.pz()]))\n",
    "\n",
    "# End of event loop. Statistics. Histogram. Done.\n",
    "pythia.stat();\n",
    "\n",
    "print(\"Total # of pi0s = \", pi0_total)\n",
    "print(\"Total # of etas = \", eta_total)\n",
    "print(\"Total # of etas primes = \", eta_prime_total)\n",
    "print(\"pi0 per interaction = \", pi0_total/nEvents)\n",
    "print(\"eta per interaction = \", eta_total/nEvents)\n",
    "print(\"eta prime per interactio = \", eta_prime_total/nEvents)\n",
    "\n",
    "pi0_four_vector_list = np.array(pi0_four_vector_list)\n",
    "eta_four_vector_list = np.array(eta_four_vector_list)\n",
    "eta_prime_four_vector_list = np.array(eta_prime_four_vector_list)"
   ]
  },
  {
   "cell_type": "markdown",
   "metadata": {},
   "source": [
    "Decay the collected $\\eta$s as $\\eta \\to \\gamma V$, with $V\\to \\mu^+ \\mu^-$ "
   ]
  },
  {
   "cell_type": "code",
   "execution_count": 4,
   "metadata": {},
   "outputs": [],
   "source": [
    "m_vector = 0.3\n",
    "mf = 0.105\n",
    "eta_decay_events = [generate_meson_decay_chain(p_meson, m_vector, mf) for p_meson in eta_four_vector_list]"
   ]
  },
  {
   "cell_type": "code",
   "execution_count": 5,
   "metadata": {},
   "outputs": [
    {
     "data": {
      "text/plain": [
       "[array([ 23.27519004,   1.23457619,  -0.08200269, -23.23582211]),\n",
       " array([ 8.64583744,  0.26834723, -0.04897424, -8.64153321]),\n",
       " array([ 14.62935261,   0.96622896,  -0.03302845, -14.5942889 ]),\n",
       " array([ 6.54754078,  0.40087183, -0.11591658, -6.53338583]),\n",
       " array([ 8.08181182,  0.56535713,  0.08288813, -8.06090306])]"
      ]
     },
     "execution_count": 5,
     "metadata": {},
     "output_type": "execute_result"
    }
   ],
   "source": [
    "# particle order: [p_meson, p_gamma, p_vector, p_fermion1, p_fermion2]\n",
    "eta_decay_events[0]"
   ]
  },
  {
   "cell_type": "markdown",
   "metadata": {},
   "source": [
    "Check momentum conservation"
   ]
  },
  {
   "cell_type": "code",
   "execution_count": 6,
   "metadata": {},
   "outputs": [
    {
     "name": "stdout",
     "output_type": "stream",
     "text": [
      "m_eta =  0.5478500000001667\n",
      "p_eta - p_vector - p_gamma =  [ 1.00008890e-12  5.31796829e-14 -3.52495810e-15 -9.96536187e-13]\n",
      "m_vector =  0.3000000000000057\n",
      "p_vector - p1 - p2 =  [-5.06616971e-12 -3.34621220e-13  1.14352972e-14  5.05551156e-12]\n",
      "m_fermion =  0.10500000000001722\n"
     ]
    }
   ],
   "source": [
    "print(\"m_eta = \", np.sqrt(kin.lor_prod(eta_decay_events[0][0],eta_decay_events[0][0])))\n",
    "print(\"p_eta - p_vector - p_gamma = \", eta_decay_events[0][0] - eta_decay_events[0][1]-eta_decay_events[0][2])\n",
    "print(\"m_vector = \", np.sqrt(kin.lor_prod(eta_decay_events[0][2],eta_decay_events[0][2])))\n",
    "print(\"p_vector - p1 - p2 = \", eta_decay_events[0][2] - eta_decay_events[0][3]-eta_decay_events[0][4])\n",
    "print(\"m_fermion = \", np.sqrt(kin.lor_prod(eta_decay_events[0][4],eta_decay_events[0][4])))"
   ]
  },
  {
   "cell_type": "code",
   "execution_count": null,
   "metadata": {},
   "outputs": [],
   "source": []
  }
 ],
 "metadata": {
  "kernelspec": {
   "display_name": "Python 3 (ipykernel)",
   "language": "python",
   "name": "python3"
  },
  "language_info": {
   "codemirror_mode": {
    "name": "ipython",
    "version": 3
   },
   "file_extension": ".py",
   "mimetype": "text/x-python",
   "name": "python",
   "nbconvert_exporter": "python",
   "pygments_lexer": "ipython3",
   "version": "3.9.5"
  }
 },
 "nbformat": 4,
 "nbformat_minor": 2
}
